{
 "cells": [
  {
   "cell_type": "code",
   "execution_count": null,
   "id": "6a5b266a",
   "metadata": {},
   "outputs": [],
   "source": [
    "import nltk\n",
    "from nltk.chat.util import Chat, reflections\n",
    "\n",
    "# Define pairs of patterns and responses\n",
    "pairs = [\n",
    "    [\n",
    "        r\"my name is (.*)\",\n",
    "        [\"Hello %1, how can I help you today?\",]\n",
    "    ],\n",
    "    [\n",
    "        r\"what is your name?\",\n",
    "        [\"I am a chatbot. You can call me Mentor.\",]\n",
    "    ],\n",
    "    [\n",
    "        r\"how are you\",\n",
    "        [\"I'm doing well, thank you!\", \"I'm functioning at full capacity.\",]\n",
    "    ],\n",
    "    [\n",
    "        r\"(.*) (weather|temperature) (.*)\",\n",
    "        [\"I'm sorry, I don't have access to real-time weather information.\",]\n",
    "    ],\n",
    "    [\n",
    "        r\"quit\",\n",
    "        [\"Goodbye! If you have more questions, feel free to ask.\",]\n",
    "    ],\n",
    "    [\n",
    "        r\"(.*)\",\n",
    "        [\"I'm sorry, I don't understand. Can you please rephrase or ask another question?\",]\n",
    "    ]\n",
    "]\n",
    "\n",
    "# Create a chatbot\n",
    "def simple_chatbot():\n",
    "    print(\"Hello! I'm a simple chatbot. Type 'quit' to exit.\")\n",
    "    chat = Chat(pairs, reflections)\n",
    "    chat.converse()\n",
    "\n",
    "if __name__ == \"__main__\":\n",
    "    # Download NLTK data if not already downloaded\n",
    "    nltk.download('punkt')\n",
    "\n",
    "    # Run the chatbot\n",
    "    simple_chatbot()\n"
   ]
  },
  {
   "cell_type": "code",
   "execution_count": null,
   "id": "7b24c943",
   "metadata": {},
   "outputs": [],
   "source": []
  }
 ],
 "metadata": {
  "kernelspec": {
   "display_name": "Python 3 (ipykernel)",
   "language": "python",
   "name": "python3"
  },
  "language_info": {
   "codemirror_mode": {
    "name": "ipython",
    "version": 3
   },
   "file_extension": ".py",
   "mimetype": "text/x-python",
   "name": "python",
   "nbconvert_exporter": "python",
   "pygments_lexer": "ipython3",
   "version": "3.10.9"
  }
 },
 "nbformat": 4,
 "nbformat_minor": 5
}
